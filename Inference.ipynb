{
 "cells": [
  {
   "cell_type": "code",
   "execution_count": 1,
   "metadata": {
    "collapsed": false
   },
   "outputs": [
    {
     "name": "stderr",
     "output_type": "stream",
     "text": [
      "Using TensorFlow backend.\n"
     ]
    }
   ],
   "source": [
    "from keras.preprocessing.text import Tokenizer\n",
    "from keras.preprocessing.sequence import pad_sequences\n",
    "from keras.utils import np_utils\n",
    "from keras.models import Sequential\n",
    "from keras.layers import Dense, Activation, Embedding, Flatten, GlobalMaxPool1D, Dropout, Conv1D\n",
    "from keras.callbacks import ReduceLROnPlateau, EarlyStopping, ModelCheckpoint\n",
    "from keras.losses import binary_crossentropy\n",
    "from keras.optimizers import Adam\n",
    "from sklearn.preprocessing import MultiLabelBinarizer\n",
    "from sklearn.preprocessing import LabelEncoder\n",
    "from sklearn.model_selection import train_test_split\n",
    "import keras\n",
    "import json\n",
    "\n",
    "import firebase_admin\n",
    "from firebase_admin import credentials\n",
    "from firebase_admin import db\n",
    "from firebase_admin import firestore\n"
   ]
  },
  {
   "cell_type": "code",
   "execution_count": 2,
   "metadata": {
    "collapsed": false
   },
   "outputs": [
    {
     "name": "stdout",
     "output_type": "stream",
     "text": [
      "WARNING:tensorflow:From /Users/pangbo/anaconda/lib/python2.7/site-packages/tensorflow/python/framework/op_def_library.py:263: colocate_with (from tensorflow.python.framework.ops) is deprecated and will be removed in a future version.\n",
      "Instructions for updating:\n",
      "Colocations handled automatically by placer.\n",
      "WARNING:tensorflow:From /Users/pangbo/anaconda/lib/python2.7/site-packages/keras/backend/tensorflow_backend.py:3445: calling dropout (from tensorflow.python.ops.nn_ops) with keep_prob is deprecated and will be removed in a future version.\n",
      "Instructions for updating:\n",
      "Please use `rate` instead of `keep_prob`. Rate should be set to `rate = 1 - keep_prob`.\n",
      "WARNING:tensorflow:From /Users/pangbo/anaconda/lib/python2.7/site-packages/tensorflow/python/ops/math_ops.py:3066: to_int32 (from tensorflow.python.ops.math_ops) is deprecated and will be removed in a future version.\n",
      "Instructions for updating:\n",
      "Use tf.cast instead.\n",
      "WARNING:tensorflow:From /Users/pangbo/anaconda/lib/python2.7/site-packages/tensorflow/python/ops/math_grad.py:102: div (from tensorflow.python.ops.math_ops) is deprecated and will be removed in a future version.\n",
      "Instructions for updating:\n",
      "Deprecated in favor of operator or tf.math.divide.\n"
     ]
    }
   ],
   "source": [
    "model_category = keras.models.load_model('model_category.h5')\n",
    "model_preference = keras.models.load_model('model_preference.h5')"
   ]
  },
  {
   "cell_type": "code",
   "execution_count": 3,
   "metadata": {
    "collapsed": false
   },
   "outputs": [
    {
     "data": {
      "text/plain": [
       "LabelEncoder()"
      ]
     },
     "execution_count": 3,
     "metadata": {},
     "output_type": "execute_result"
    }
   ],
   "source": [
    "with open(\"categories.json\",\"r\") as fp:\n",
    "    categories = json.load(fp)\n",
    "encoder_category = LabelEncoder()\n",
    "encoder_category.fit(categories)\n",
    "\n",
    "with open(\"preferences.json\",\"r\") as fp:\n",
    "    preferences = json.load(fp)\n",
    "encoder_preference = LabelEncoder()\n",
    "encoder_preference.fit(preferences)"
   ]
  },
  {
   "cell_type": "markdown",
   "metadata": {},
   "source": [
    "### Read unlabeled events from Firestore"
   ]
  },
  {
   "cell_type": "code",
   "execution_count": 4,
   "metadata": {
    "collapsed": false
   },
   "outputs": [],
   "source": [
    "cred = credentials.Certificate('evently-key.json')\n",
    "firebase_admin.initialize_app(cred)\n",
    "store = firestore.client()\n",
    "collection_name = \"events\""
   ]
  },
  {
   "cell_type": "code",
   "execution_count": 5,
   "metadata": {
    "collapsed": false
   },
   "outputs": [
    {
     "name": "stderr",
     "output_type": "stream",
     "text": [
      "/Users/pangbo/anaconda/lib/python2.7/site-packages/ipykernel/__main__.py:3: DeprecationWarning: 'Collection.get' is deprecated:  please use 'Collection.stream' instead.\n",
      "  app.launch_new_instance()\n"
     ]
    }
   ],
   "source": [
    "doc_ref = store.collection(collection_name)\n",
    "try:\n",
    "    docs = doc_ref.get()\n",
    "except google.cloud.exceptions.NotFound:\n",
    "    print(u'No such collection!')\n",
    "data = []\n",
    "for doc in docs:\n",
    "    # print(u'{} => {}'.format(doc.id, doc.to_dict()))\n",
    "    data.append(doc)"
   ]
  },
  {
   "cell_type": "code",
   "execution_count": 25,
   "metadata": {
    "collapsed": false
   },
   "outputs": [],
   "source": [
    "# Arguments:\n",
    "#    X: raw event texts\n",
    "#    models for category and preference\n",
    "#    Label encoder for category\n",
    "#    Label encoder for preference\n",
    "#    top_classes: number of categories predicted\n",
    "# Return:\n",
    "#    category predictions: a list of list of size top_classes\n",
    "#    preference predictions: a list of list\n",
    "def predict(X,model_category,model_preference,encoder_category, encoder_preference, top_classes=1):\n",
    "    tokenizer = Tokenizer(num_words=5000, lower=True)\n",
    "    tokenizer.fit_on_texts(X)\n",
    "    sequences = tokenizer.texts_to_sequences(X)\n",
    "    X = pad_sequences(sequences, maxlen=180, padding=\"post\")\n",
    "    # Predict category\n",
    "    category_pred = model_category.predict(X)\n",
    "    top_y = (-category_pred).argsort(axis=-1)[:,:top_classes]\n",
    "    # Predict preference     \n",
    "    preference_pred = model_preference.predict(X)\n",
    "    preference_tags = map(lambda x: x.lower(),encoder_preference.classes_)\n",
    "    return [encoder_category.inverse_transform(y) for y in top_y], [dict(zip(preference_tags, map(lambda x: x.item(),pred))) for pred in preference_pred]\n"
   ]
  },
  {
   "cell_type": "markdown",
   "metadata": {},
   "source": [
    "### Preprocessing text and utilize trained model to predict"
   ]
  },
  {
   "cell_type": "code",
   "execution_count": 26,
   "metadata": {
    "collapsed": false
   },
   "outputs": [
    {
     "name": "stdout",
     "output_type": "stream",
     "text": [
      "1027\n"
     ]
    }
   ],
   "source": [
    "X = []\n",
    "docId = []\n",
    "for doc in data:\n",
    "    x = doc.to_dict()['eventName']\n",
    "    if 'description' in doc.to_dict() and doc.to_dict()['description']:\n",
    "        x+=' '+doc.to_dict()['description']\n",
    "    X.append(x)\n",
    "    docId.append(doc.id)\n",
    "predictedCategory, predictedPreference = predict(X,model_category,model_preference,encoder_category,encoder_preference,top_classes = 2)\n",
    "pairs = zip(predictedCategory,predictedPreference,docId)\n",
    "print len(pairs)"
   ]
  },
  {
   "cell_type": "code",
   "execution_count": 27,
   "metadata": {
    "collapsed": false
   },
   "outputs": [
    {
     "data": {
      "text/plain": [
       "(array([u'Art', u'Food&Drink'], dtype='<U12'),\n",
       " {u'active': 0.28732144832611084,\n",
       "  u'cultural': 0.19341245293617249,\n",
       "  u'lit': 0.28528550267219543,\n",
       "  u'relaxing': 0.2156735360622406},\n",
       " u'Eventbrite47360736237')"
      ]
     },
     "execution_count": 27,
     "metadata": {},
     "output_type": "execute_result"
    }
   ],
   "source": [
    "pairs[0]"
   ]
  },
  {
   "cell_type": "markdown",
   "metadata": {
    "collapsed": false
   },
   "source": [
    "### Write back to Firestore"
   ]
  },
  {
   "cell_type": "code",
   "execution_count": 29,
   "metadata": {
    "collapsed": false
   },
   "outputs": [
    {
     "name": "stdout",
     "output_type": "stream",
     "text": [
      "Done\n"
     ]
    }
   ],
   "source": [
    "for categories,preferences,docId in pairs:\n",
    "    event_ref = store.collection(collection_name).document(docId)\n",
    "    event_ref.set({\n",
    "        u'categories': categories.tolist(),\n",
    "        u'preferences': preferences\n",
    "    }, merge=True)\n",
    "print \"Done\""
   ]
  },
  {
   "cell_type": "code",
   "execution_count": null,
   "metadata": {
    "collapsed": true
   },
   "outputs": [],
   "source": []
  }
 ],
 "metadata": {
  "kernelspec": {
   "display_name": "Python 2",
   "language": "python",
   "name": "python2"
  },
  "language_info": {
   "codemirror_mode": {
    "name": "ipython",
    "version": 2
   },
   "file_extension": ".py",
   "mimetype": "text/x-python",
   "name": "python",
   "nbconvert_exporter": "python",
   "pygments_lexer": "ipython2",
   "version": "2.7.13"
  }
 },
 "nbformat": 4,
 "nbformat_minor": 2
}
